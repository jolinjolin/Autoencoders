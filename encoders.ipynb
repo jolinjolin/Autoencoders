{
 "cells": [
  {
   "cell_type": "markdown",
   "metadata": {
    "deletable": false,
    "editable": false,
    "nbgrader": {
     "cell_type": "markdown",
     "checksum": "88b70267128002739eb4c352b3ee518e",
     "grade": false,
     "grade_id": "cell-d470720bf71d0e77",
     "locked": true,
     "schema_version": 3,
     "solution": false,
     "task": false
    }
   },
   "source": [
    "# Denoising autoencoder"
   ]
  },
  {
   "cell_type": "code",
   "execution_count": 4,
   "metadata": {},
   "outputs": [],
   "source": [
    "%matplotlib inline\n",
    "import numpy as np\n",
    "import torch\n",
    "import matplotlib.pyplot as plt\n",
    "\n",
    "import torchvision\n",
    "import torchvision.transforms as transforms\n",
    "import torch.nn as nn\n",
    "import torch.nn.functional as F\n",
    "import torch.optim as optim\n",
    "import random\n",
    "from sklearn.decomposition import PCA\n",
    "from sklearn.preprocessing import StandardScaler\n",
    "\n",
    "device = torch.device(\"cuda\") if torch.cuda.is_available() else torch.device(\"cpu\")"
   ]
  },
  {
   "cell_type": "code",
   "execution_count": null,
   "metadata": {
    "deletable": false,
    "editable": false,
    "nbgrader": {
     "cell_type": "code",
     "checksum": "2c8b01ab30982a66445130a0460367bf",
     "grade": true,
     "grade_id": "cell-b28b3957a99730ca",
     "locked": true,
     "points": 1,
     "schema_version": 3,
     "solution": false,
     "task": false
    }
   },
   "outputs": [],
   "source": []
  },
  {
   "cell_type": "code",
   "execution_count": 5,
   "metadata": {},
   "outputs": [
    {
     "name": "stdout",
     "output_type": "stream",
     "text": [
      "Downloading http://yann.lecun.com/exdb/mnist/train-images-idx3-ubyte.gz\n",
      "Downloading http://yann.lecun.com/exdb/mnist/train-images-idx3-ubyte.gz to ./data/MNIST/raw/train-images-idx3-ubyte.gz\n"
     ]
    },
    {
     "data": {
      "application/vnd.jupyter.widget-view+json": {
       "model_id": "5fc87da0921947c29dc1dcbdb39f3beb",
       "version_major": 2,
       "version_minor": 0
      },
      "text/plain": [
       "  0%|          | 0/9912422 [00:00<?, ?it/s]"
      ]
     },
     "metadata": {},
     "output_type": "display_data"
    },
    {
     "name": "stdout",
     "output_type": "stream",
     "text": [
      "Extracting ./data/MNIST/raw/train-images-idx3-ubyte.gz to ./data/MNIST/raw\n",
      "\n",
      "Downloading http://yann.lecun.com/exdb/mnist/train-labels-idx1-ubyte.gz\n",
      "Downloading http://yann.lecun.com/exdb/mnist/train-labels-idx1-ubyte.gz to ./data/MNIST/raw/train-labels-idx1-ubyte.gz\n"
     ]
    },
    {
     "data": {
      "application/vnd.jupyter.widget-view+json": {
       "model_id": "3fad7c88ed374726ae54f5cd0b548fc5",
       "version_major": 2,
       "version_minor": 0
      },
      "text/plain": [
       "  0%|          | 0/28881 [00:00<?, ?it/s]"
      ]
     },
     "metadata": {},
     "output_type": "display_data"
    },
    {
     "name": "stdout",
     "output_type": "stream",
     "text": [
      "Extracting ./data/MNIST/raw/train-labels-idx1-ubyte.gz to ./data/MNIST/raw\n",
      "\n",
      "Downloading http://yann.lecun.com/exdb/mnist/t10k-images-idx3-ubyte.gz\n",
      "Downloading http://yann.lecun.com/exdb/mnist/t10k-images-idx3-ubyte.gz to ./data/MNIST/raw/t10k-images-idx3-ubyte.gz\n"
     ]
    },
    {
     "data": {
      "application/vnd.jupyter.widget-view+json": {
       "model_id": "5797ec75ceb14668b8bbdc945d8dc849",
       "version_major": 2,
       "version_minor": 0
      },
      "text/plain": [
       "  0%|          | 0/1648877 [00:00<?, ?it/s]"
      ]
     },
     "metadata": {},
     "output_type": "display_data"
    },
    {
     "name": "stdout",
     "output_type": "stream",
     "text": [
      "Extracting ./data/MNIST/raw/t10k-images-idx3-ubyte.gz to ./data/MNIST/raw\n",
      "\n",
      "Downloading http://yann.lecun.com/exdb/mnist/t10k-labels-idx1-ubyte.gz\n",
      "Downloading http://yann.lecun.com/exdb/mnist/t10k-labels-idx1-ubyte.gz to ./data/MNIST/raw/t10k-labels-idx1-ubyte.gz\n"
     ]
    },
    {
     "data": {
      "application/vnd.jupyter.widget-view+json": {
       "model_id": "80c1a7d39b094357af3defecfe34f942",
       "version_major": 2,
       "version_minor": 0
      },
      "text/plain": [
       "  0%|          | 0/4542 [00:00<?, ?it/s]"
      ]
     },
     "metadata": {},
     "output_type": "display_data"
    },
    {
     "name": "stdout",
     "output_type": "stream",
     "text": [
      "Extracting ./data/MNIST/raw/t10k-labels-idx1-ubyte.gz to ./data/MNIST/raw\n",
      "\n"
     ]
    }
   ],
   "source": [
    "#load data\n",
    "batch_size = 4\n",
    "transform = transforms.ToTensor()\n",
    "trainset = torchvision.datasets.MNIST(root='./data', train=True,download=True, transform=transform)\n",
    "trainloader = torch.utils.data.DataLoader(trainset, batch_size=batch_size, shuffle=True, num_workers=2)\n",
    "testset = torchvision.datasets.MNIST(root='./data', train=False,download=True, transform=transform)\n",
    "testloader = torch.utils.data.DataLoader(testset, batch_size=4,shuffle=False, num_workers=1)"
   ]
  },
  {
   "cell_type": "code",
   "execution_count": 6,
   "metadata": {},
   "outputs": [
    {
     "name": "stdout",
     "output_type": "stream",
     "text": [
      "torch.Size([3, 32, 122])\n"
     ]
    },
    {
     "data": {
      "image/png": "[encoded data removed]",
      "text/plain": [
       "<Figure size 640x480 with 1 Axes>"
      ]
     },
     "metadata": {},
     "output_type": "display_data"
    },
    {
     "name": "stdout",
     "output_type": "stream",
     "text": [
      "3     7     0     6    \n"
     ]
    }
   ],
   "source": [
    "#show original images\n",
    "def imshow(img):\n",
    "    print(img.shape)\n",
    "    #img = img / 2 + 0.5     # unnormalize\n",
    "    npimg = img.numpy()\n",
    "    plt.imshow(np.transpose(npimg, (1, 2, 0)))\n",
    "    plt.axis('off')\n",
    "    plt.show()\n",
    "\n",
    "\n",
    "# get some random training images\n",
    "dataiter = iter(trainloader)\n",
    "images, labels = next(dataiter)\n",
    "classes = list(str(i) for i in range(10))\n",
    "\n",
    "imshow(torchvision.utils.make_grid(images))\n",
    "print(' '.join(f'{classes[labels[j]]:5s}' for j in range(batch_size)))"
   ]
  },
  {
   "cell_type": "code",
   "execution_count": 7,
   "metadata": {},
   "outputs": [],
   "source": [
    "#define model\n",
    "def EnocodeLayer(inp, out, ks=3, s=1, p=1):\n",
    "    return nn.Conv2d(inp, out, kernel_size=ks, stride=s, padding=p)\n",
    "\n",
    "def DecodeLayer(inp, out, ks, s):\n",
    "    return nn.ConvTranspose2d(inp, out, kernel_size=ks, stride=s)\n",
    "\n",
    "class DenoisingAutoEncoder(nn.Module):\n",
    "    def __init__(self):\n",
    "        super().__init__()\n",
    "        self.sqs = nn.Sequential(\n",
    "            EnocodeLayer(1, 32), nn.ReLU(),\n",
    "            nn.MaxPool2d(2, 2),\n",
    "            EnocodeLayer(32, 16), nn.ReLU(),\n",
    "            nn.MaxPool2d(2, 2), \n",
    "            EnocodeLayer(16, 8), nn.ReLU(),\n",
    "            nn.MaxPool2d(2, 2),\n",
    "            \n",
    "            DecodeLayer(8, 8, 3, 2), nn.ReLU(),\n",
    "            DecodeLayer(8, 16, 2, 2), nn.ReLU(),\n",
    "            DecodeLayer(16, 32, 2, 2), nn.ReLU(),\n",
    "            \n",
    "            EnocodeLayer(32, 1),\n",
    "            nn.Sigmoid()\n",
    "        )\n",
    "        \n",
    "    def forward(self, x):\n",
    "        return self.sqs(x)"
   ]
  },
  {
   "cell_type": "code",
   "execution_count": 8,
   "metadata": {},
   "outputs": [],
   "source": [
    "#initialize model\n",
    "w = torch.empty(3, 5)\n",
    "nn.init.xavier_uniform_(w, gain=nn.init.calculate_gain('relu'))\n",
    "net = DenoisingAutoEncoder()"
   ]
  },
  {
   "cell_type": "code",
   "execution_count": 9,
   "metadata": {},
   "outputs": [],
   "source": [
    "#define loss function and optimizer\n",
    "criterion = nn.MSELoss()\n",
    "optimizer = torch.optim.Adam(net.parameters(), lr=0.001)"
   ]
  },
  {
   "cell_type": "code",
   "execution_count": 10,
   "metadata": {},
   "outputs": [
    {
     "name": "stdout",
     "output_type": "stream",
     "text": [
      "[1,  2000] loss: 0.057\n",
      "[2,  2000] loss: 0.031\n",
      "[3,  2000] loss: 0.028\n",
      "[4,  2000] loss: 0.027\n",
      "Finished Training\n"
     ]
    }
   ],
   "source": [
    "#train model\n",
    "n_epoch = 4\n",
    "noise_factor = 0.5\n",
    "for epoch in range(n_epoch):  # loop over the dataset multiple times\n",
    "    running_loss = 0.0\n",
    "    for i, data in enumerate(trainloader, 0):\n",
    "        # get the inputs; data is a list of [inputs, labels]\n",
    "        inputs, labels = data\n",
    "        \n",
    "        #add random noise\n",
    "        noisy_inputs = inputs + noise_factor * torch.randn(*inputs.shape)\n",
    "        noisy_inputs = np.clip(noisy_inputs, 0., 1.)\n",
    "\n",
    "        # zero the parameter gradients\n",
    "        optimizer.zero_grad()\n",
    "\n",
    "        # forward + backward + optimize\n",
    "        outputs = net(noisy_inputs)\n",
    "        loss = criterion(outputs, inputs)\n",
    "        loss.backward()\n",
    "        optimizer.step()\n",
    "\n",
    "        # print statistics\n",
    "        running_loss += loss.item()\n",
    "        if i % 14000 == 1999:    # print every 2000 mini-batches\n",
    "            print(f'[{epoch + 1}, {i + 1:5d}] loss: {running_loss / 2000:.3f}')\n",
    "            running_loss = 0.0\n",
    "\n",
    "print('Finished Training')"
   ]
  },
  {
   "cell_type": "code",
   "execution_count": 12,
   "metadata": {},
   "outputs": [
    {
     "data": {
      "image/png": "[encoded data removed]",
      "text/plain": [
       "<Figure size 2500x400 with 8 Axes>"
      ]
     },
     "metadata": {},
     "output_type": "display_data"
    }
   ],
   "source": [
    "# evaluate model\n",
    "dataiter = iter(testloader)\n",
    "inputs, labels = dataiter.next()\n",
    "\n",
    "# add noise to the test images\n",
    "noisy_inputs = inputs + noise_factor * torch.randn(*inputs.shape)\n",
    "noisy_inputs = np.clip(noisy_inputs, 0., 1.)\n",
    "\n",
    "# get sample outputs\n",
    "outputs = net(noisy_inputs)\n",
    "noisy_inputs = noisy_inputs.numpy()\n",
    "outputs = outputs.view(batch_size, 1, 28, 28)\n",
    "outputs = outputs.detach().numpy()\n",
    "\n",
    "#show images\n",
    "fig, axes = plt.subplots(nrows=2, ncols=batch_size, sharex=True, sharey=True, figsize=(25,4))\n",
    "for noisy_inputs, row in zip([noisy_inputs, outputs], axes):\n",
    "    for img, ax in zip(noisy_inputs, row):\n",
    "        ax.imshow(np.squeeze(img), cmap='gray')\n",
    "        ax.get_xaxis().set_visible(False)\n",
    "        ax.get_yaxis().set_visible(False)"
   ]
  },
  {
   "cell_type": "code",
   "execution_count": 13,
   "metadata": {},
   "outputs": [],
   "source": [
    "#compute mean residual\n",
    "mean_residuals = np.zeros((28,28))\n",
    "n = 0\n",
    "outputs_list = []\n",
    "with torch.no_grad():\n",
    "    for data in testloader:\n",
    "        inputs, labels = data\n",
    "        #add random noise\n",
    "        noisy_inputs = inputs + noise_factor * torch.randn(*inputs.shape)\n",
    "        noisy_inputs = np.clip(noisy_inputs, 0., 1.)\n",
    "        # calculate outputs by running images through the network\n",
    "        outputs = net(noisy_inputs)\n",
    "        outputs_tmp = outputs.detach().numpy().squeeze()\n",
    "        outputs_list.append(outputs_tmp)\n",
    "        # compute residual\n",
    "        residuals_tmp = inputs - outputs\n",
    "        residuals_tmp = np.squeeze(residuals_tmp)\n",
    "        residuals_tmp = residuals_tmp.detach().numpy()\n",
    "        mean_residuals_tmp = np.mean(residuals_tmp, axis=0)\n",
    "        mean_residuals += mean_residuals_tmp\n",
    "        n += 1\n",
    "\n",
    "mean_residuals = mean_residuals/n"
   ]
  },
  {
   "cell_type": "code",
   "execution_count": 14,
   "metadata": {},
   "outputs": [
    {
     "data": {
      "text/plain": [
       "(-0.5, 27.5, 27.5, -0.5)"
      ]
     },
     "execution_count": 14,
     "metadata": {},
     "output_type": "execute_result"
    },
    {
     "data": {
      "image/png": "[encoded data removed]",
      "text/plain": [
       "<Figure size 400x400 with 1 Axes>"
      ]
     },
     "metadata": {},
     "output_type": "display_data"
    }
   ],
   "source": [
    "#show mean residual\n",
    "fig, ax = plt.subplots(figsize=(4,4))\n",
    "ax.imshow(mean_residuals, cmap='gray')\n",
    "ax.set(title=\"Mean residual\")\n",
    "plt.axis('off')"
   ]
  },
  {
   "cell_type": "code",
   "execution_count": 15,
   "metadata": {},
   "outputs": [
    {
     "data": {
      "image/png": "[encoded data removed]",
      "text/plain": [
       "<Figure size 1200x400 with 5 Axes>"
      ]
     },
     "metadata": {},
     "output_type": "display_data"
    }
   ],
   "source": [
    "#perform PCA and show first five principla components\n",
    "outputs_arr = np.array(outputs_list)\n",
    "outputs_arr = outputs_arr.reshape(-1, 28*28)\n",
    "n_components = 5\n",
    "pca = PCA(n_components=n_components)\n",
    "pca.fit(outputs_arr)\n",
    "fig = plt.figure(figsize=(12, 4))\n",
    "axes = []\n",
    "for i in range(n_components):\n",
    "    ax_ = fig.add_subplot(1, n_components, i+1)\n",
    "    ax_.imshow(pca.components_[i].reshape(28,28), interpolation='nearest', clim=(-.15, .15), cmap='gray')\n",
    "    ax_.set_title(f'PC {i+1}')\n",
    "    ax_.axis('off')\n",
    "\n",
    "    axes.append(ax_)"
   ]
  }
 ],
 "metadata": {
  "illinois_payload": {
   "b64z": "",
   "nb_path": "release/VAE/VAE.ipynb"
  },
  "kernelspec": {
   "display_name": "Python 3.9.12 ('base')",
   "language": "python",
   "name": "python3"
  },
  "language_info": {
   "codemirror_mode": {
    "name": "ipython",
    "version": 3
   },
   "file_extension": ".py",
   "mimetype": "text/x-python",
   "name": "python",
   "nbconvert_exporter": "python",
   "pygments_lexer": "ipython3",
   "version": "3.9.12"
  },
  "vscode": {
   "interpreter": {
    "hash": "eb41dba41134829c88e5d12c32bb30abf5a3ad118ed62948a4747cb2ca716f29"
   }
  }
 },
 "nbformat": 4,
 "nbformat_minor": 4
}
